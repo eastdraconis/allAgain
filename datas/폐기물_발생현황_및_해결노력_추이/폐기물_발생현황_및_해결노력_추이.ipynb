{
 "cells": [
  {
   "cell_type": "markdown",
   "id": "a2a17d3a",
   "metadata": {},
   "source": [
    "# 폐기물 발생량, 환경오염 방지 실태 설문조사 분석"
   ]
  },
  {
   "cell_type": "markdown",
   "id": "b4edc519",
   "metadata": {},
   "source": [
    "---"
   ]
  },
  {
   "cell_type": "markdown",
   "id": "9d7b6896",
   "metadata": {},
   "source": [
    "## 목표\n",
    "- 통계청의 생활폐기물 발생현황과 환경오염 방지 노력 실태 설문조사 데이터를 분석\n",
    "- 웹 서비스에 필요한 방향성으로 데이터 정제"
   ]
  },
  {
   "cell_type": "markdown",
   "id": "3bc6bfba",
   "metadata": {},
   "source": [
    "---"
   ]
  },
  {
   "cell_type": "markdown",
   "id": "cbfa3b44",
   "metadata": {},
   "source": [
    "## 1. 데이터 읽기"
   ]
  },
  {
   "cell_type": "markdown",
   "id": "8a988b45",
   "metadata": {},
   "source": [
    "### 1.1. 필요한 패키지 설치하기"
   ]
  },
  {
   "cell_type": "code",
   "execution_count": 1,
   "id": "6a6adfa3",
   "metadata": {
    "scrolled": true
   },
   "outputs": [
    {
     "name": "stdout",
     "output_type": "stream",
     "text": [
      "Requirement already satisfied: seaborn==0.9.0 in c:\\users\\peelsob4d\\anaconda3\\lib\\site-packages (0.9.0)\n",
      "Requirement already satisfied: pandas>=0.15.2 in c:\\users\\peelsob4d\\anaconda3\\lib\\site-packages (from seaborn==0.9.0) (1.4.2)\n",
      "Requirement already satisfied: matplotlib>=1.4.3 in c:\\users\\peelsob4d\\anaconda3\\lib\\site-packages (from seaborn==0.9.0) (3.5.1)\n",
      "Requirement already satisfied: scipy>=0.14.0 in c:\\users\\peelsob4d\\anaconda3\\lib\\site-packages (from seaborn==0.9.0) (1.7.3)\n",
      "Requirement already satisfied: numpy>=1.9.3 in c:\\users\\peelsob4d\\anaconda3\\lib\\site-packages (from seaborn==0.9.0) (1.21.5)\n",
      "Requirement already satisfied: pyparsing>=2.2.1 in c:\\users\\peelsob4d\\anaconda3\\lib\\site-packages (from matplotlib>=1.4.3->seaborn==0.9.0) (3.0.4)\n",
      "Requirement already satisfied: cycler>=0.10 in c:\\users\\peelsob4d\\anaconda3\\lib\\site-packages (from matplotlib>=1.4.3->seaborn==0.9.0) (0.11.0)\n",
      "Requirement already satisfied: packaging>=20.0 in c:\\users\\peelsob4d\\anaconda3\\lib\\site-packages (from matplotlib>=1.4.3->seaborn==0.9.0) (21.3)\n",
      "Requirement already satisfied: fonttools>=4.22.0 in c:\\users\\peelsob4d\\anaconda3\\lib\\site-packages (from matplotlib>=1.4.3->seaborn==0.9.0) (4.25.0)\n",
      "Requirement already satisfied: pillow>=6.2.0 in c:\\users\\peelsob4d\\anaconda3\\lib\\site-packages (from matplotlib>=1.4.3->seaborn==0.9.0) (9.0.1)\n",
      "Requirement already satisfied: kiwisolver>=1.0.1 in c:\\users\\peelsob4d\\anaconda3\\lib\\site-packages (from matplotlib>=1.4.3->seaborn==0.9.0) (1.3.2)\n",
      "Requirement already satisfied: python-dateutil>=2.7 in c:\\users\\peelsob4d\\anaconda3\\lib\\site-packages (from matplotlib>=1.4.3->seaborn==0.9.0) (2.8.2)\n",
      "Requirement already satisfied: pytz>=2020.1 in c:\\users\\peelsob4d\\anaconda3\\lib\\site-packages (from pandas>=0.15.2->seaborn==0.9.0) (2021.3)\n",
      "Requirement already satisfied: six>=1.5 in c:\\users\\peelsob4d\\anaconda3\\lib\\site-packages (from python-dateutil>=2.7->matplotlib>=1.4.3->seaborn==0.9.0) (1.16.0)\n",
      "0.9.0\n"
     ]
    }
   ],
   "source": [
    "import numpy as np \n",
    "import pandas as pd \n",
    "import matplotlib.pyplot as plt\n",
    "!pip install seaborn==0.9.0\n",
    "import seaborn as sns\n",
    "print(sns.__version__)"
   ]
  },
  {
   "cell_type": "markdown",
   "id": "1ca58a81",
   "metadata": {},
   "source": [
    "### 1.2. 데이터 불러오기"
   ]
  },
  {
   "cell_type": "code",
   "execution_count": 2,
   "id": "f06229c5",
   "metadata": {
    "scrolled": true
   },
   "outputs": [],
   "source": [
    "# 우선 14~18년도의 데이터를 불러온다\n",
    "df2014 = pd.read_csv('./dataset/가정생활폐기물발생및처리_2014.csv', encoding='utf-8', header=4, names=['시도', '시군구', '발생량및 처리현황', '처리방식', '총계'], usecols=[0, 1, 2, 3, 4])\n",
    "df2015 = pd.read_csv('./dataset/가정생활폐기물발생및처리_2015.csv', encoding='utf-8', header=4, names=['시도', '시군구', '발생량및 처리현황', '처리방식', '총계'], usecols=[0, 1, 2, 3, 4])\n",
    "df2016 = pd.read_csv('./dataset/가정생활폐기물발생및처리_2016.csv', encoding='utf-8', header=4, names=['시도', '시군구', '발생량및 처리현황', '처리방식', '총계'], usecols=[0, 1, 2, 3, 4])\n",
    "df2017 = pd.read_csv('./dataset/가정생활폐기물발생및처리_2017.csv', encoding='utf-8', header=4, names=['시도', '시군구', '발생량및 처리현황', '처리방식', '총계'], usecols=[0, 1, 2, 3, 4])\n",
    "df2018 = pd.read_csv('./dataset/가정생활폐기물발생및처리_2018.csv', encoding='utf-8', header=4, names=['시도', '시군구', '발생량및 처리현황', '처리방식', '총계'], usecols=[0, 1, 2, 3, 4])"
   ]
  },
  {
   "cell_type": "code",
   "execution_count": 3,
   "id": "49758c1f",
   "metadata": {},
   "outputs": [],
   "source": [
    "# 19~20년도의 데이터는 기존 데이터들과 형태가 다르기 때문에 따로 불러온다\n",
    "df2019 = pd.read_csv('./dataset/가정생활폐기물발생및처리_2019.csv', encoding='utf-8', header=2, names=['시도', '배출방식', '성질', '분류', '총계'], usecols=[0, 1, 2, 3, 4])\n",
    "df2020 = pd.read_csv('./dataset/가정생활폐기물발생및처리_2020.csv', encoding='utf-8', header=2, names=['시도', '배출방식', '성질', '분류', '총계'], usecols=[0, 1, 2, 3, 4])"
   ]
  },
  {
   "cell_type": "markdown",
   "id": "c1d8a730",
   "metadata": {},
   "source": [
    "### 1.3. 데이터 확인하기"
   ]
  },
  {
   "cell_type": "code",
   "execution_count": 4,
   "id": "44ca27df",
   "metadata": {
    "scrolled": true
   },
   "outputs": [
    {
     "data": {
      "text/html": [
       "<div>\n",
       "<style scoped>\n",
       "    .dataframe tbody tr th:only-of-type {\n",
       "        vertical-align: middle;\n",
       "    }\n",
       "\n",
       "    .dataframe tbody tr th {\n",
       "        vertical-align: top;\n",
       "    }\n",
       "\n",
       "    .dataframe thead th {\n",
       "        text-align: right;\n",
       "    }\n",
       "</style>\n",
       "<table border=\"1\" class=\"dataframe\">\n",
       "  <thead>\n",
       "    <tr style=\"text-align: right;\">\n",
       "      <th></th>\n",
       "      <th>시도</th>\n",
       "      <th>시군구</th>\n",
       "      <th>발생량및 처리현황</th>\n",
       "      <th>처리방식</th>\n",
       "      <th>총계</th>\n",
       "    </tr>\n",
       "  </thead>\n",
       "  <tbody>\n",
       "    <tr>\n",
       "      <th>0</th>\n",
       "      <td>전국</td>\n",
       "      <td>합계</td>\n",
       "      <td>발생량</td>\n",
       "      <td>발생량</td>\n",
       "      <td>42355.2</td>\n",
       "    </tr>\n",
       "    <tr>\n",
       "      <th>1</th>\n",
       "      <td>전국</td>\n",
       "      <td>합계</td>\n",
       "      <td>처리방법</td>\n",
       "      <td>매립</td>\n",
       "      <td>6271.7</td>\n",
       "    </tr>\n",
       "    <tr>\n",
       "      <th>2</th>\n",
       "      <td>전국</td>\n",
       "      <td>합계</td>\n",
       "      <td>처리방법</td>\n",
       "      <td>소각</td>\n",
       "      <td>11530.6</td>\n",
       "    </tr>\n",
       "    <tr>\n",
       "      <th>3</th>\n",
       "      <td>전국</td>\n",
       "      <td>합계</td>\n",
       "      <td>처리방법</td>\n",
       "      <td>재활용</td>\n",
       "      <td>24552.9</td>\n",
       "    </tr>\n",
       "    <tr>\n",
       "      <th>4</th>\n",
       "      <td>서울</td>\n",
       "      <td>종로구</td>\n",
       "      <td>발생량</td>\n",
       "      <td>발생량</td>\n",
       "      <td>290.9</td>\n",
       "    </tr>\n",
       "  </tbody>\n",
       "</table>\n",
       "</div>"
      ],
      "text/plain": [
       "   시도  시군구 발생량및 처리현황 처리방식       총계\n",
       "0  전국   합계       발생량  발생량  42355.2\n",
       "1  전국   합계      처리방법   매립   6271.7\n",
       "2  전국   합계      처리방법   소각  11530.6\n",
       "3  전국   합계      처리방법  재활용  24552.9\n",
       "4  서울  종로구       발생량  발생량    290.9"
      ]
     },
     "execution_count": 4,
     "metadata": {},
     "output_type": "execute_result"
    }
   ],
   "source": [
    "df2014.head()"
   ]
  },
  {
   "cell_type": "code",
   "execution_count": 5,
   "id": "014fc872",
   "metadata": {
    "scrolled": true
   },
   "outputs": [
    {
     "data": {
      "text/html": [
       "<div>\n",
       "<style scoped>\n",
       "    .dataframe tbody tr th:only-of-type {\n",
       "        vertical-align: middle;\n",
       "    }\n",
       "\n",
       "    .dataframe tbody tr th {\n",
       "        vertical-align: top;\n",
       "    }\n",
       "\n",
       "    .dataframe thead th {\n",
       "        text-align: right;\n",
       "    }\n",
       "</style>\n",
       "<table border=\"1\" class=\"dataframe\">\n",
       "  <thead>\n",
       "    <tr style=\"text-align: right;\">\n",
       "      <th></th>\n",
       "      <th>시도</th>\n",
       "      <th>배출방식</th>\n",
       "      <th>성질</th>\n",
       "      <th>분류</th>\n",
       "      <th>총계</th>\n",
       "    </tr>\n",
       "  </thead>\n",
       "  <tbody>\n",
       "    <tr>\n",
       "      <th>0</th>\n",
       "      <td>전국</td>\n",
       "      <td>합계</td>\n",
       "      <td>NaN</td>\n",
       "      <td>NaN</td>\n",
       "      <td>16760917.7</td>\n",
       "    </tr>\n",
       "    <tr>\n",
       "      <th>1</th>\n",
       "      <td>전국</td>\n",
       "      <td>종량제방식 등 혼합배출</td>\n",
       "      <td>소계</td>\n",
       "      <td>NaN</td>\n",
       "      <td>7654774.3</td>\n",
       "    </tr>\n",
       "    <tr>\n",
       "      <th>2</th>\n",
       "      <td>전국</td>\n",
       "      <td>종량제방식 등 혼합배출</td>\n",
       "      <td>가연성</td>\n",
       "      <td>소계</td>\n",
       "      <td>6582204.5</td>\n",
       "    </tr>\n",
       "    <tr>\n",
       "      <th>3</th>\n",
       "      <td>전국</td>\n",
       "      <td>종량제방식 등 혼합배출</td>\n",
       "      <td>가연성</td>\n",
       "      <td>폐지류</td>\n",
       "      <td>1777903.9</td>\n",
       "    </tr>\n",
       "    <tr>\n",
       "      <th>4</th>\n",
       "      <td>전국</td>\n",
       "      <td>종량제방식 등 혼합배출</td>\n",
       "      <td>가연성</td>\n",
       "      <td>폐합성수지류</td>\n",
       "      <td>1612074.8</td>\n",
       "    </tr>\n",
       "    <tr>\n",
       "      <th>...</th>\n",
       "      <td>...</td>\n",
       "      <td>...</td>\n",
       "      <td>...</td>\n",
       "      <td>...</td>\n",
       "      <td>...</td>\n",
       "    </tr>\n",
       "    <tr>\n",
       "      <th>751</th>\n",
       "      <td>제주</td>\n",
       "      <td>재활용 가능자원 분리배출</td>\n",
       "      <td>폐전기전자제품</td>\n",
       "      <td>NaN</td>\n",
       "      <td>2644.0</td>\n",
       "    </tr>\n",
       "    <tr>\n",
       "      <th>752</th>\n",
       "      <td>제주</td>\n",
       "      <td>재활용 가능자원 분리배출</td>\n",
       "      <td>폐가구류</td>\n",
       "      <td>NaN</td>\n",
       "      <td>0.0</td>\n",
       "    </tr>\n",
       "    <tr>\n",
       "      <th>753</th>\n",
       "      <td>제주</td>\n",
       "      <td>재활용 가능자원 분리배출</td>\n",
       "      <td>기타</td>\n",
       "      <td>NaN</td>\n",
       "      <td>16128.2</td>\n",
       "    </tr>\n",
       "    <tr>\n",
       "      <th>754</th>\n",
       "      <td>제주</td>\n",
       "      <td>재활용 가능자원 분리배출</td>\n",
       "      <td>재활용 잔재물</td>\n",
       "      <td>NaN</td>\n",
       "      <td>9140.0</td>\n",
       "    </tr>\n",
       "    <tr>\n",
       "      <th>755</th>\n",
       "      <td>제주</td>\n",
       "      <td>음식물류 폐기물 분리배출</td>\n",
       "      <td>NaN</td>\n",
       "      <td>NaN</td>\n",
       "      <td>81160.3</td>\n",
       "    </tr>\n",
       "  </tbody>\n",
       "</table>\n",
       "<p>756 rows × 5 columns</p>\n",
       "</div>"
      ],
      "text/plain": [
       "     시도           배출방식       성질      분류          총계\n",
       "0    전국             합계      NaN     NaN  16760917.7\n",
       "1    전국   종량제방식 등 혼합배출       소계     NaN   7654774.3\n",
       "2    전국   종량제방식 등 혼합배출      가연성      소계   6582204.5\n",
       "3    전국   종량제방식 등 혼합배출      가연성     폐지류   1777903.9\n",
       "4    전국   종량제방식 등 혼합배출      가연성  폐합성수지류   1612074.8\n",
       "..   ..            ...      ...     ...         ...\n",
       "751  제주  재활용 가능자원 분리배출  폐전기전자제품     NaN      2644.0\n",
       "752  제주  재활용 가능자원 분리배출     폐가구류     NaN         0.0\n",
       "753  제주  재활용 가능자원 분리배출       기타     NaN     16128.2\n",
       "754  제주  재활용 가능자원 분리배출  재활용 잔재물     NaN      9140.0\n",
       "755  제주  음식물류 폐기물 분리배출      NaN     NaN     81160.3\n",
       "\n",
       "[756 rows x 5 columns]"
      ]
     },
     "execution_count": 5,
     "metadata": {},
     "output_type": "execute_result"
    }
   ],
   "source": [
    "df2019"
   ]
  },
  {
   "cell_type": "code",
   "execution_count": null,
   "id": "26da189f",
   "metadata": {},
   "outputs": [],
   "source": []
  },
  {
   "cell_type": "markdown",
   "id": "be3205b1",
   "metadata": {},
   "source": [
    "## 2.데이터 가공하기"
   ]
  },
  {
   "cell_type": "markdown",
   "id": "002d4bd5",
   "metadata": {},
   "source": [
    "### 2.1. 형식 통일하기"
   ]
  },
  {
   "cell_type": "code",
   "execution_count": 6,
   "id": "1eded82c",
   "metadata": {},
   "outputs": [],
   "source": [
    "# 연도 컬럼을 추가해준다\n",
    "df2014['연도'] = '2014'\n",
    "df2015['연도'] = '2015'\n",
    "df2016['연도'] = '2016'\n",
    "df2017['연도'] = '2017'\n",
    "df2018['연도'] = '2018'"
   ]
  },
  {
   "cell_type": "code",
   "execution_count": 7,
   "id": "b2e263d4",
   "metadata": {},
   "outputs": [],
   "source": [
    "# 14~18년도의 데이터프레임을 하나로 합쳐 저장한다\n",
    "df1418 = pd.concat([df2014, df2015, df2016, df2017, df2018]).set_index('연도')"
   ]
  },
  {
   "cell_type": "code",
   "execution_count": 8,
   "id": "9ec75be5",
   "metadata": {},
   "outputs": [],
   "source": [
    "# 마찬가지로 연도 컬럼을 추가해준다\n",
    "df2019['연도'] = '2019'\n",
    "df2020['연도'] = '2020'"
   ]
  },
  {
   "cell_type": "code",
   "execution_count": 9,
   "id": "16aecb4f",
   "metadata": {},
   "outputs": [],
   "source": [
    "# 연도 컬럼을 index로 하여 데이터프레임을 합친다\n",
    "df1920 = pd.concat([df2019, df2020]).set_index('연도')"
   ]
  },
  {
   "cell_type": "markdown",
   "id": "65c1b04b",
   "metadata": {},
   "source": [
    "### 2.2. 필요한 데이터로 정제하기"
   ]
  },
  {
   "cell_type": "code",
   "execution_count": 10,
   "id": "37dab309",
   "metadata": {
    "scrolled": true
   },
   "outputs": [],
   "source": [
    "# 조건을 통해서 필요한 데이터만 남도록 정리한다\n",
    "df1418 = df1418[(df1418['시도'] == '전국') & (df1418['처리방식'] == '발생량')]"
   ]
  },
  {
   "cell_type": "code",
   "execution_count": 11,
   "id": "c08c5fa6",
   "metadata": {
    "scrolled": true
   },
   "outputs": [],
   "source": [
    "# 톤/일 단위에서 톤/년 단위로 바꿔주기 위해 모든 '총계' 컬럼에 365를 곱해준다\n",
    "df1418['총계'] = df1418['총계'].apply(lambda x: x*365)"
   ]
  },
  {
   "cell_type": "code",
   "execution_count": 12,
   "id": "f8c8b13b",
   "metadata": {},
   "outputs": [],
   "source": [
    "# 필요한 데이터만 남겨준다\n",
    "df1920 = df1920[(df1920['시도'] == '전국') & (df1920['배출방식'] == '합계')]"
   ]
  },
  {
   "cell_type": "markdown",
   "id": "4bd472e6",
   "metadata": {},
   "source": [
    "### 2.3. 데이터프레임 합치기"
   ]
  },
  {
   "cell_type": "code",
   "execution_count": 13,
   "id": "44123ed9",
   "metadata": {},
   "outputs": [],
   "source": [
    "# 두 데이터프레임을 합쳐준다\n",
    "df_final = pd.concat([df1920, df1418]).sort_values(['총계'], ascending = True)"
   ]
  },
  {
   "cell_type": "code",
   "execution_count": 14,
   "id": "ff48060d",
   "metadata": {},
   "outputs": [],
   "source": [
    "# index값을 초기화시켜준다\n",
    "df_final = df_final.reset_index()"
   ]
  },
  {
   "cell_type": "code",
   "execution_count": 15,
   "id": "e6523293",
   "metadata": {
    "scrolled": true
   },
   "outputs": [
    {
     "data": {
      "text/html": [
       "<div>\n",
       "<style scoped>\n",
       "    .dataframe tbody tr th:only-of-type {\n",
       "        vertical-align: middle;\n",
       "    }\n",
       "\n",
       "    .dataframe tbody tr th {\n",
       "        vertical-align: top;\n",
       "    }\n",
       "\n",
       "    .dataframe thead th {\n",
       "        text-align: right;\n",
       "    }\n",
       "</style>\n",
       "<table border=\"1\" class=\"dataframe\">\n",
       "  <thead>\n",
       "    <tr style=\"text-align: right;\">\n",
       "      <th></th>\n",
       "      <th>연도</th>\n",
       "      <th>시도</th>\n",
       "      <th>배출방식</th>\n",
       "      <th>성질</th>\n",
       "      <th>분류</th>\n",
       "      <th>총계</th>\n",
       "      <th>시군구</th>\n",
       "      <th>발생량및 처리현황</th>\n",
       "      <th>처리방식</th>\n",
       "    </tr>\n",
       "  </thead>\n",
       "  <tbody>\n",
       "    <tr>\n",
       "      <th>0</th>\n",
       "      <td>2014</td>\n",
       "      <td>전국</td>\n",
       "      <td>NaN</td>\n",
       "      <td>NaN</td>\n",
       "      <td>NaN</td>\n",
       "      <td>15459648.0</td>\n",
       "      <td>합계</td>\n",
       "      <td>발생량</td>\n",
       "      <td>발생량</td>\n",
       "    </tr>\n",
       "    <tr>\n",
       "      <th>1</th>\n",
       "      <td>2015</td>\n",
       "      <td>전국</td>\n",
       "      <td>NaN</td>\n",
       "      <td>NaN</td>\n",
       "      <td>NaN</td>\n",
       "      <td>15845088.0</td>\n",
       "      <td>합계</td>\n",
       "      <td>발생량</td>\n",
       "      <td>발생량</td>\n",
       "    </tr>\n",
       "    <tr>\n",
       "      <th>2</th>\n",
       "      <td>2017</td>\n",
       "      <td>전국</td>\n",
       "      <td>NaN</td>\n",
       "      <td>NaN</td>\n",
       "      <td>NaN</td>\n",
       "      <td>16428248.5</td>\n",
       "      <td>합계</td>\n",
       "      <td>발생량</td>\n",
       "      <td>발생량</td>\n",
       "    </tr>\n",
       "    <tr>\n",
       "      <th>3</th>\n",
       "      <td>2016</td>\n",
       "      <td>전국</td>\n",
       "      <td>NaN</td>\n",
       "      <td>NaN</td>\n",
       "      <td>NaN</td>\n",
       "      <td>16593009.5</td>\n",
       "      <td>합계</td>\n",
       "      <td>발생량</td>\n",
       "      <td>발생량</td>\n",
       "    </tr>\n",
       "    <tr>\n",
       "      <th>4</th>\n",
       "      <td>2019</td>\n",
       "      <td>전국</td>\n",
       "      <td>합계</td>\n",
       "      <td>NaN</td>\n",
       "      <td>NaN</td>\n",
       "      <td>16760917.7</td>\n",
       "      <td>NaN</td>\n",
       "      <td>NaN</td>\n",
       "      <td>NaN</td>\n",
       "    </tr>\n",
       "    <tr>\n",
       "      <th>5</th>\n",
       "      <td>2018</td>\n",
       "      <td>전국</td>\n",
       "      <td>NaN</td>\n",
       "      <td>NaN</td>\n",
       "      <td>NaN</td>\n",
       "      <td>17063494.5</td>\n",
       "      <td>합계</td>\n",
       "      <td>발생량</td>\n",
       "      <td>발생량</td>\n",
       "    </tr>\n",
       "    <tr>\n",
       "      <th>6</th>\n",
       "      <td>2020</td>\n",
       "      <td>전국</td>\n",
       "      <td>합계</td>\n",
       "      <td>NaN</td>\n",
       "      <td>NaN</td>\n",
       "      <td>17303386.4</td>\n",
       "      <td>NaN</td>\n",
       "      <td>NaN</td>\n",
       "      <td>NaN</td>\n",
       "    </tr>\n",
       "  </tbody>\n",
       "</table>\n",
       "</div>"
      ],
      "text/plain": [
       "     연도  시도 배출방식   성질   분류          총계  시군구 발생량및 처리현황 처리방식\n",
       "0  2014  전국  NaN  NaN  NaN  15459648.0   합계       발생량  발생량\n",
       "1  2015  전국  NaN  NaN  NaN  15845088.0   합계       발생량  발생량\n",
       "2  2017  전국  NaN  NaN  NaN  16428248.5   합계       발생량  발생량\n",
       "3  2016  전국  NaN  NaN  NaN  16593009.5   합계       발생량  발생량\n",
       "4  2019  전국   합계  NaN  NaN  16760917.7  NaN       NaN  NaN\n",
       "5  2018  전국  NaN  NaN  NaN  17063494.5   합계       발생량  발생량\n",
       "6  2020  전국   합계  NaN  NaN  17303386.4  NaN       NaN  NaN"
      ]
     },
     "execution_count": 15,
     "metadata": {},
     "output_type": "execute_result"
    }
   ],
   "source": [
    "df_final"
   ]
  },
  {
   "cell_type": "markdown",
   "id": "ee78f838",
   "metadata": {},
   "source": [
    "### 2.4. 그래프 확인하기"
   ]
  },
  {
   "cell_type": "code",
   "execution_count": 16,
   "id": "d4468642",
   "metadata": {},
   "outputs": [
    {
     "data": {
      "text/plain": [
       "[<matplotlib.lines.Line2D at 0x26e55996ac0>]"
      ]
     },
     "execution_count": 16,
     "metadata": {},
     "output_type": "execute_result"
    },
    {
     "data": {
      "image/png": "[encoded data removed]",
      "text/plain": [
       "<Figure size 432x288 with 1 Axes>"
      ]
     },
     "metadata": {
      "needs_background": "light"
     },
     "output_type": "display_data"
    }
   ],
   "source": [
    "plt.plot(df_final['연도'], df_final['총계'])"
   ]
  },
  {
   "cell_type": "markdown",
   "id": "9c128f79",
   "metadata": {},
   "source": [
    "---"
   ]
  },
  {
   "cell_type": "markdown",
   "id": "6f7124d7",
   "metadata": {},
   "source": [
    "## 3. 설문조사 데이터 읽기"
   ]
  },
  {
   "cell_type": "markdown",
   "id": "6ad6740e",
   "metadata": {},
   "source": [
    "### 3.1. 데이터 불러오기"
   ]
  },
  {
   "cell_type": "code",
   "execution_count": 17,
   "id": "9b7b70fc",
   "metadata": {},
   "outputs": [],
   "source": [
    "prevent_food = pd.read_csv('./dataset/환경오염_방지_노력__음식물_쓰레기_줄이기__13세_이상_인구__20221005112715.csv', encoding='cp949', header=[0,1])\n",
    "prevent_disposable = pd.read_csv('./dataset/환경오염_방지_노력_일회용품_사용하지_않기__13세_이상_인구__20221005112656.csv', encoding='cp949', header=[0,1])\n",
    "prevent_own = pd.read_csv('./dataset/환경오염_방지_노력_대중교통_이용하기__13세_이상_인구__20221005112622.csv', encoding='cp949', header=[0,1])\n",
    "prevent_water = pd.read_csv('./dataset/환경오염_방지_노력_물_절약하기__13세_이상_인구__20221005112548.csv', encoding='cp949', header=[0,1])\n",
    "prevent_recycle = pd.read_csv('./dataset/환경오염_방지_노력_재활용품_분리_배출하기__13세_이상_인구__20221005112531.csv', encoding='cp949', header=[0,1])\n",
    "prevent_campaign = pd.read_csv('./dataset/환경오염_방지_노력_자연보호_및_환경보전활동_참여하기__13세_이상_인구__20221005112456.csv', encoding='cp949', header=[0,1])\n",
    "prevent_power = pd.read_csv('./dataset/환경오염_방지_노력_가정_내_대기전력_줄이기__13세_이상_인구__20221005121200.csv', encoding='cp949', header=[0,1])"
   ]
  },
  {
   "cell_type": "markdown",
   "id": "15d3cb5d",
   "metadata": {},
   "source": [
    "### 3.2. 데이터 합치기"
   ]
  },
  {
   "cell_type": "code",
   "execution_count": 18,
   "id": "152a4253",
   "metadata": {},
   "outputs": [],
   "source": [
    "# 각 데이터마다 형식이 동일하므로 이를 구분하기 위해 keys를 설정해준다\n",
    "prevent_pollution = pd.concat([prevent_food, prevent_disposable, prevent_own, prevent_water, prevent_recycle, prevent_campaign, prevent_power], axis = 0, keys = ['음식물 쓰레기', '일회용품', '대중교통', '물', '분리수거', '자연보호활동', '대기전력'])"
   ]
  },
  {
   "cell_type": "markdown",
   "id": "16818057",
   "metadata": {},
   "source": [
    "### 3.3. 데이터 정제하기"
   ]
  },
  {
   "cell_type": "code",
   "execution_count": 19,
   "id": "874eca25",
   "metadata": {},
   "outputs": [],
   "source": [
    "# 불필요한 기존 index를 제거해주고, 조건을 통해 필요한 데이터를 뽑아낸다\n",
    "prevent_pollution = prevent_pollution[prevent_pollution['특성별(1)']['특성별(1)'] == '전체'].droplevel(1)"
   ]
  },
  {
   "cell_type": "code",
   "execution_count": 20,
   "id": "e21f4be8",
   "metadata": {
    "scrolled": true
   },
   "outputs": [
    {
     "data": {
      "text/plain": [
       "Index(['음식물 쓰레기', '일회용품', '대중교통', '물', '분리수거', '자연보호활동', '대기전력'], dtype='object')"
      ]
     },
     "execution_count": 20,
     "metadata": {},
     "output_type": "execute_result"
    }
   ],
   "source": [
    "prevent_pollution.index"
   ]
  },
  {
   "cell_type": "code",
   "execution_count": 21,
   "id": "026c94c3",
   "metadata": {
    "scrolled": true
   },
   "outputs": [],
   "source": [
    "prevent_pollution = prevent_pollution.loc[['일회용품', '분리수거']]"
   ]
  },
  {
   "cell_type": "code",
   "execution_count": 22,
   "id": "c3d3bece",
   "metadata": {
    "scrolled": true
   },
   "outputs": [],
   "source": [
    "# 연도 컬럼을 Series로 사용할 수 있도록 가공해주기 위해 stack을 사용한다. 불필요한 컬럼들은 제거해준다\n",
    "prevent_pollution = prevent_pollution.drop([prevent_pollution.columns[0], prevent_pollution.columns[1], prevent_pollution.columns[2]], axis=1).stack(level=0).reset_index(level=1)"
   ]
  },
  {
   "cell_type": "code",
   "execution_count": 23,
   "id": "d2725a43",
   "metadata": {},
   "outputs": [],
   "source": [
    "# 연도의 컬럼명을 지정해준다\n",
    "prevent_pollution.rename(columns = {'level_1':'연도'}, inplace=True)"
   ]
  },
  {
   "cell_type": "code",
   "execution_count": 24,
   "id": "5250dcda",
   "metadata": {},
   "outputs": [],
   "source": [
    "# 수치 데이터를 전부 실수로 바꾸어준다\n",
    "prevent_pollution['매우 노력함'] = prevent_pollution['매우 노력함'].apply(lambda x: float(x))\n",
    "prevent_pollution['별로 노력하지 않음'] = prevent_pollution['별로 노력하지 않음'].apply(lambda x: float(x))\n",
    "prevent_pollution['약간 노력함'] = prevent_pollution['약간 노력함'].apply(lambda x: float(x))\n",
    "prevent_pollution['전혀 노력하지 않음'] = prevent_pollution['전혀 노력하지 않음'].apply(lambda x: float(x))"
   ]
  },
  {
   "cell_type": "code",
   "execution_count": 25,
   "id": "9f257861",
   "metadata": {},
   "outputs": [],
   "source": [
    "prevent_pollution['긍정'] = prevent_pollution['매우 노력함'] + prevent_pollution['약간 노력함']\n",
    "prevent_pollution['부정'] = prevent_pollution['별로 노력하지 않음'] + prevent_pollution['전혀 노력하지 않음']"
   ]
  },
  {
   "cell_type": "code",
   "execution_count": 26,
   "id": "17a946b9",
   "metadata": {},
   "outputs": [],
   "source": [
    "# 긍정적 통계만을 남긴 새 데이터프레임을 만든다\n",
    "prevent_pollution_percentage = prevent_pollution.groupby('연도').aggregate({'긍정': np.median, '부정': np.median, '매우 노력함': np.median, '약간 노력함': np.median, '별로 노력하지 않음': np.median, '전혀 노력하지 않음': np.median })"
   ]
  },
  {
   "cell_type": "code",
   "execution_count": 27,
   "id": "843b2cca",
   "metadata": {
    "scrolled": true
   },
   "outputs": [
    {
     "data": {
      "text/html": [
       "<div>\n",
       "<style scoped>\n",
       "    .dataframe tbody tr th:only-of-type {\n",
       "        vertical-align: middle;\n",
       "    }\n",
       "\n",
       "    .dataframe tbody tr th {\n",
       "        vertical-align: top;\n",
       "    }\n",
       "\n",
       "    .dataframe thead th {\n",
       "        text-align: right;\n",
       "    }\n",
       "</style>\n",
       "<table border=\"1\" class=\"dataframe\">\n",
       "  <thead>\n",
       "    <tr style=\"text-align: right;\">\n",
       "      <th></th>\n",
       "      <th>긍정</th>\n",
       "      <th>부정</th>\n",
       "      <th>매우 노력함</th>\n",
       "      <th>약간 노력함</th>\n",
       "      <th>별로 노력하지 않음</th>\n",
       "      <th>전혀 노력하지 않음</th>\n",
       "    </tr>\n",
       "    <tr>\n",
       "      <th>연도</th>\n",
       "      <th></th>\n",
       "      <th></th>\n",
       "      <th></th>\n",
       "      <th></th>\n",
       "      <th></th>\n",
       "      <th></th>\n",
       "    </tr>\n",
       "  </thead>\n",
       "  <tbody>\n",
       "    <tr>\n",
       "      <th>2010</th>\n",
       "      <td>79.75</td>\n",
       "      <td>20.30</td>\n",
       "      <td>34.55</td>\n",
       "      <td>45.20</td>\n",
       "      <td>18.65</td>\n",
       "      <td>1.65</td>\n",
       "    </tr>\n",
       "    <tr>\n",
       "      <th>2012</th>\n",
       "      <td>80.60</td>\n",
       "      <td>19.45</td>\n",
       "      <td>35.45</td>\n",
       "      <td>45.15</td>\n",
       "      <td>17.60</td>\n",
       "      <td>1.85</td>\n",
       "    </tr>\n",
       "    <tr>\n",
       "      <th>2014</th>\n",
       "      <td>80.15</td>\n",
       "      <td>19.85</td>\n",
       "      <td>33.90</td>\n",
       "      <td>46.25</td>\n",
       "      <td>18.10</td>\n",
       "      <td>1.75</td>\n",
       "    </tr>\n",
       "    <tr>\n",
       "      <th>2016</th>\n",
       "      <td>81.30</td>\n",
       "      <td>18.75</td>\n",
       "      <td>35.30</td>\n",
       "      <td>46.00</td>\n",
       "      <td>16.90</td>\n",
       "      <td>1.85</td>\n",
       "    </tr>\n",
       "    <tr>\n",
       "      <th>2018</th>\n",
       "      <td>78.75</td>\n",
       "      <td>21.25</td>\n",
       "      <td>33.55</td>\n",
       "      <td>45.20</td>\n",
       "      <td>19.00</td>\n",
       "      <td>2.25</td>\n",
       "    </tr>\n",
       "    <tr>\n",
       "      <th>2020</th>\n",
       "      <td>84.95</td>\n",
       "      <td>15.10</td>\n",
       "      <td>39.20</td>\n",
       "      <td>45.75</td>\n",
       "      <td>13.55</td>\n",
       "      <td>1.55</td>\n",
       "    </tr>\n",
       "  </tbody>\n",
       "</table>\n",
       "</div>"
      ],
      "text/plain": [
       "         긍정     부정  매우 노력함  약간 노력함  별로 노력하지 않음  전혀 노력하지 않음\n",
       "연도                                                        \n",
       "2010  79.75  20.30   34.55   45.20       18.65        1.65\n",
       "2012  80.60  19.45   35.45   45.15       17.60        1.85\n",
       "2014  80.15  19.85   33.90   46.25       18.10        1.75\n",
       "2016  81.30  18.75   35.30   46.00       16.90        1.85\n",
       "2018  78.75  21.25   33.55   45.20       19.00        2.25\n",
       "2020  84.95  15.10   39.20   45.75       13.55        1.55"
      ]
     },
     "execution_count": 27,
     "metadata": {},
     "output_type": "execute_result"
    }
   ],
   "source": [
    "prevent_pollution_percentage"
   ]
  },
  {
   "cell_type": "markdown",
   "id": "a841f0fa",
   "metadata": {},
   "source": [
    "### 3.4. 그래프로 표현하기"
   ]
  },
  {
   "cell_type": "code",
   "execution_count": 28,
   "id": "d34811a5",
   "metadata": {
    "scrolled": true
   },
   "outputs": [
    {
     "data": {
      "image/png": "[encoded data removed]",
      "text/plain": [
       "<Figure size 432x288 with 2 Axes>"
      ]
     },
     "metadata": {
      "needs_background": "light"
     },
     "output_type": "display_data"
    }
   ],
   "source": [
    "plt.subplot(211)\n",
    "plt.plot(prevent_pollution_percentage['긍정'])\n",
    "plt.subplot(212)\n",
    "plt.plot(prevent_pollution_percentage['부정'])\n",
    "plt.show()"
   ]
  },
  {
   "cell_type": "code",
   "execution_count": 29,
   "id": "e23b56bf",
   "metadata": {},
   "outputs": [
    {
     "data": {
      "image/png": "[encoded data removed]",
      "text/plain": [
       "<Figure size 432x288 with 1 Axes>"
      ]
     },
     "metadata": {
      "needs_background": "light"
     },
     "output_type": "display_data"
    }
   ],
   "source": [
    "plt.plot(prevent_pollution_percentage['매우 노력함'])\n",
    "plt.show()"
   ]
  },
  {
   "cell_type": "code",
   "execution_count": 30,
   "id": "fac4f9e6",
   "metadata": {},
   "outputs": [
    {
     "data": {
      "image/png": "[encoded data removed]",
      "text/plain": [
       "<Figure size 432x288 with 1 Axes>"
      ]
     },
     "metadata": {
      "needs_background": "light"
     },
     "output_type": "display_data"
    }
   ],
   "source": [
    "plt.plot(prevent_pollution_percentage['약간 노력함'])\n",
    "plt.show()"
   ]
  },
  {
   "cell_type": "code",
   "execution_count": 31,
   "id": "aae5d4dd",
   "metadata": {},
   "outputs": [
    {
     "data": {
      "image/png": "[encoded data removed]",
      "text/plain": [
       "<Figure size 432x288 with 1 Axes>"
      ]
     },
     "metadata": {
      "needs_background": "light"
     },
     "output_type": "display_data"
    }
   ],
   "source": [
    "plt.plot(prevent_pollution_percentage['별로 노력하지 않음'])\n",
    "plt.show()"
   ]
  },
  {
   "cell_type": "code",
   "execution_count": 32,
   "id": "f27a35ea",
   "metadata": {},
   "outputs": [
    {
     "data": {
      "image/png": "[encoded data removed]",
      "text/plain": [
       "<Figure size 432x288 with 1 Axes>"
      ]
     },
     "metadata": {
      "needs_background": "light"
     },
     "output_type": "display_data"
    }
   ],
   "source": [
    "plt.plot(prevent_pollution_percentage['전혀 노력하지 않음'])\n",
    "plt.show()"
   ]
  },
  {
   "cell_type": "code",
   "execution_count": 38,
   "id": "de0bcdab",
   "metadata": {},
   "outputs": [
    {
     "data": {
      "text/plain": [
       "긍정            84.95\n",
       "부정            15.10\n",
       "매우 노력함        39.20\n",
       "약간 노력함        45.75\n",
       "별로 노력하지 않음    13.55\n",
       "전혀 노력하지 않음     1.55\n",
       "Name: 2020, dtype: float64"
      ]
     },
     "execution_count": 38,
     "metadata": {},
     "output_type": "execute_result"
    }
   ],
   "source": [
    "prevent_pollution_percentage.loc['2020']"
   ]
  },
  {
   "cell_type": "code",
   "execution_count": 48,
   "id": "399e4edc",
   "metadata": {},
   "outputs": [
    {
     "data": {
      "image/png": "[encoded data removed]",
      "text/plain": [
       "<Figure size 432x288 with 1 Axes>"
      ]
     },
     "metadata": {},
     "output_type": "display_data"
    }
   ],
   "source": [
    "plt.pie(prevent_pollution_percentage.loc['2020', ['긍정', '부정']], labels=['positive', 'negative'], autopct='%.1f%%',wedgeprops={'width': 0.7, 'linewidth': 5, 'edgecolor': 'w'})\n",
    "plt.show()"
   ]
  },
  {
   "cell_type": "code",
   "execution_count": 57,
   "id": "01b2f8d2",
   "metadata": {},
   "outputs": [
    {
     "data": {
      "image/png": "[encoded data removed]",
      "text/plain": [
       "<Figure size 432x288 with 1 Axes>"
      ]
     },
     "metadata": {
      "needs_background": "light"
     },
     "output_type": "display_data"
    }
   ],
   "source": [
    "plt.bar(prevent_pollution_percentage.index, prevent_pollution_percentage['매우 노력함'], bottom=prevent_pollution_percentage['약간 노력함'])\n",
    "plt.bar(prevent_pollution_percentage.index, prevent_pollution_percentage['약간 노력함'], bottom=prevent_pollution_percentage['별로 노력하지 않음'])\n",
    "plt.bar(prevent_pollution_percentage.index, prevent_pollution_percentage['별로 노력하지 않음'], bottom=prevent_pollution_percentage['전혀 노력하지 않음'])\n",
    "plt.bar(prevent_pollution_percentage.index, prevent_pollution_percentage['전혀 노력하지 않음'])\n",
    "plt.show()"
   ]
  },
  {
   "cell_type": "code",
   "execution_count": null,
   "id": "799ac8d8",
   "metadata": {},
   "outputs": [],
   "source": []
  }
 ],
 "metadata": {
  "kernelspec": {
   "display_name": "Python 3 (ipykernel)",
   "language": "python",
   "name": "python3"
  },
  "language_info": {
   "codemirror_mode": {
    "name": "ipython",
    "version": 3
   },
   "file_extension": ".py",
   "mimetype": "text/x-python",
   "name": "python",
   "nbconvert_exporter": "python",
   "pygments_lexer": "ipython3",
   "version": "3.9.12"
  }
 },
 "nbformat": 4,
 "nbformat_minor": 5
}
