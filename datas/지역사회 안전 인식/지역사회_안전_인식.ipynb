{
 "cells": [
  {
   "cell_type": "markdown",
   "metadata": {
    "id": "FYBybYr04mE7"
   },
   "source": [
    "### 지역사회 안전 인식\n",
    "\n",
    "* '길거리 하천 집 앞에 쓰레기가 쌓여있거나 버려져있다' 항목의 답변을 그렇다 / 아니다로 나눔"
   ]
  },
  {
   "cell_type": "markdown",
   "metadata": {
    "id": "pH6Pukxi88Jz"
   },
   "source": [
    "pandas, matplotlib.pyplot, numpy 모듈, 한글 깨짐 방지 설정"
   ]
  },
  {
   "cell_type": "code",
   "execution_count": 1,
   "metadata": {
    "id": "-kax21na6lof"
   },
   "outputs": [],
   "source": [
    "import pandas as pd\n",
    "import matplotlib.pyplot as plt\n",
    "import numpy as np\n",
    "\n",
    "plt.rc('font', family='NanumBarunGothic') "
   ]
  },
  {
   "cell_type": "markdown",
   "metadata": {
    "id": "q4dvQGn49JUb"
   },
   "source": [
    "한글 깨짐 방지 설정 2"
   ]
  },
  {
   "cell_type": "code",
   "execution_count": 2,
   "metadata": {
    "colab": {
     "base_uri": "https://localhost:8080/"
    },
    "id": "kbttQ9exmWQo",
    "outputId": "283b2d8c-2b4f-441e-d6b6-0f60f57d1be1"
   },
   "outputs": [
    {
     "name": "stderr",
     "output_type": "stream",
     "text": [
      "'sudo'은(는) 내부 또는 외부 명령, 실행할 수 있는 프로그램, 또는\n",
      "배치 파일이 아닙니다.\n",
      "'sudo'은(는) 내부 또는 외부 명령, 실행할 수 있는 프로그램, 또는\n",
      "배치 파일이 아닙니다.\n",
      "'rm'은(는) 내부 또는 외부 명령, 실행할 수 있는 프로그램, 또는\n",
      "배치 파일이 아닙니다.\n"
     ]
    }
   ],
   "source": [
    "!sudo apt-get install -y fonts-nanum\n",
    "!sudo fc-cache -fv\n",
    "!rm ~/.cache/matplotlib -rf"
   ]
  },
  {
   "cell_type": "markdown",
   "metadata": {
    "id": "dVL8dRtd9Lob"
   },
   "source": [
    "csv 파일 가져옴"
   ]
  },
  {
   "cell_type": "code",
   "execution_count": 3,
   "metadata": {
    "id": "VYj6WcLb7R-o"
   },
   "outputs": [],
   "source": [
    "data = pd.read_csv('./local.csv', encoding='CP949')"
   ]
  },
  {
   "cell_type": "code",
   "execution_count": 4,
   "metadata": {
    "colab": {
     "base_uri": "https://localhost:8080/"
    },
    "id": "Z3Eg3nuS8Y2F",
    "outputId": "5f9ac537-c1e2-47ad-e9f2-787cd334717d"
   },
   "outputs": [
    {
     "name": "stdout",
     "output_type": "stream",
     "text": [
      "Index(['구분별(1)', '구분별(2)', '2017', '2017.1', '2017.2', '2017.3', '2017.4',\n",
      "       '2017.5', '2017.6', '2017.7', '2017.8', '2017.9', '2017.10', '2017.11',\n",
      "       '2017.12', '2017.13', '2017.14', '2017.15', '2017.16', '2017.17',\n",
      "       '2017.18', '2017.19', '2017.20', '2017.21', '2017.22', '2017.23',\n",
      "       '2017.24', '2017.25', '2017.26', '2017.27', '2017.28', '2017.29',\n",
      "       '2017.30', '2017.31', '2017.32', '2017.33', '2017.34', '2017.35',\n",
      "       '2017.36', '2017.37', '2017.38', '2017.39', '2017.40', '2017.41',\n",
      "       '2017.42', '2017.43', '2017.44', '2017.45', '2017.46', '2017.47',\n",
      "       '2017.48', '2017.49', '2017.50', '2017.51', '2017.52', '2017.53',\n",
      "       '2017.54', '2017.55', '2017.56', '2017.57', '2017.58', '2017.59',\n",
      "       '2017.60', '2017.61', '2017.62', '2017.63', '2017.64', '2017.65',\n",
      "       '2017.66', '2017.67', '2017.68', '2017.69', '2017.70', '2017.71'],\n",
      "      dtype='object')\n"
     ]
    }
   ],
   "source": [
    "print(data.columns)"
   ]
  },
  {
   "cell_type": "markdown",
   "metadata": {
    "id": "cbHil0239ZD0"
   },
   "source": [
    "설문조사 항목 중 '길거리 하천 집 앞에 쓰레기가 쌓여있거나 버려져있다' 부분만 잘라서 가져옴"
   ]
  },
  {
   "cell_type": "code",
   "execution_count": 5,
   "metadata": {
    "colab": {
     "base_uri": "https://localhost:8080/"
    },
    "id": "f5UcH0mGfyPz",
    "outputId": "b46e5df8-04c9-4a2f-d6c0-59365cf37836"
   },
   "outputs": [
    {
     "name": "stdout",
     "output_type": "stream",
     "text": [
      "                        2017.18                       2017.19  \\\n",
      "1  길거리 하천 집 앞에 쓰레기가 쌓여있거나 버려져있다  길거리 하천 집 앞에 쓰레기가 쌓여있거나 버려져있다   \n",
      "2                       사례수 (명)                 전혀 그렇지 않다 (%)   \n",
      "3                          3956                           7.8   \n",
      "\n",
      "                        2017.20                       2017.21  \\\n",
      "1  길거리 하천 집 앞에 쓰레기가 쌓여있거나 버려져있다  길거리 하천 집 앞에 쓰레기가 쌓여있거나 버려져있다   \n",
      "2                그렇지 않은 편이다 (%)                      보통이다 (%)   \n",
      "3                          39.0                          33.6   \n",
      "\n",
      "                        2017.22                       2017.23  \n",
      "1  길거리 하천 집 앞에 쓰레기가 쌓여있거나 버려져있다  길거리 하천 집 앞에 쓰레기가 쌓여있거나 버려져있다  \n",
      "2                    그런 편이다 (%)                    매우 그렇다 (%)  \n",
      "3                          17.2                           2.4  \n"
     ]
    }
   ],
   "source": [
    "df = data.loc[:, ['2017.18', '2017.19', '2017.20', '2017.21', '2017.22', '2017.23']]\n",
    "df = df[1:4]\n",
    "print(df)"
   ]
  },
  {
   "cell_type": "markdown",
   "metadata": {
    "id": "8uanj7ZR9ngp"
   },
   "source": [
    "원형 그래프에 넣을 데이터를 ratio, labels 배열에 삽입"
   ]
  },
  {
   "cell_type": "code",
   "execution_count": 6,
   "metadata": {
    "colab": {
     "base_uri": "https://localhost:8080/"
    },
    "id": "chr8mk6gpDG1",
    "outputId": "47643fdf-2b55-48ff-afe0-aaf66b8867fa"
   },
   "outputs": [],
   "source": [
    "arr1 = np.array(df.loc[3][1:])\n",
    "ratio = [float(arr1[0])+float(arr1[1]), float(arr1[2])+float(arr1[3])+float(arr1[4])]\n",
    "\n",
    "labels = [\"아니다\", \"그렇다\"]"
   ]
  },
  {
   "cell_type": "markdown",
   "metadata": {
    "id": "pK9nng7Q9wTZ"
   },
   "source": [
    "원형 그래프 생성"
   ]
  },
  {
   "cell_type": "code",
   "execution_count": null,
   "metadata": {
    "colab": {
     "base_uri": "https://localhost:8080/",
     "height": 263
    },
    "id": "Ic75KD2lm4Up",
    "outputId": "04cc93cb-36fa-489e-f43a-174214d17a5f"
   },
   "outputs": [
    {
     "data": {
      "image/png": "[encoded data removed]",
      "text/plain": [
       "<Figure size 432x288 with 1 Axes>"
      ]
     },
     "metadata": {},
     "output_type": "display_data"
    }
   ],
   "source": [
    "plt.pie(ratio, labels = labels, autopct='%.1f%%')\n",
    "plt.title('길거리 하천 집 앞에 쓰레기가 쌓여있거나 버려져있다')\n",
    "plt.show()"
   ]
  }
 ],
 "metadata": {
  "colab": {
   "collapsed_sections": [],
   "provenance": []
  },
  "kernelspec": {
   "display_name": "Python 3 (ipykernel)",
   "language": "python",
   "name": "python3"
  },
  "language_info": {
   "codemirror_mode": {
    "name": "ipython",
    "version": 3
   },
   "file_extension": ".py",
   "mimetype": "text/x-python",
   "name": "python",
   "nbconvert_exporter": "python",
   "pygments_lexer": "ipython3",
   "version": "3.9.12"
  }
 },
 "nbformat": 4,
 "nbformat_minor": 1
}
