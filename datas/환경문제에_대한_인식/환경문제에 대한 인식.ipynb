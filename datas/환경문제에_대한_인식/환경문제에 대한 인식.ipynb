{
 "cells": [
  {
   "cell_type": "markdown",
   "metadata": {},
   "source": [
    "# 환경문제에 대한 인식 분석"
   ]
  },
  {
   "cell_type": "markdown",
   "metadata": {},
   "source": [
    "## 분석 목표\n",
    "* 환경문제에 대한 시민들의 인식을 분석하여 어떻게 느끼고 있는지 파악"
   ]
  },
  {
   "cell_type": "markdown",
   "metadata": {},
   "source": [
    "## 목차\n",
    "1. 데이터 읽기\n",
    "    * 데이터 불러오기\n",
    "2. 데이터 정제\n",
    "    * 결측치 확인\n",
    "    * 결측치 제거\n",
    "3. 데이터 시각화"
   ]
  },
  {
   "cell_type": "markdown",
   "metadata": {},
   "source": [
    "### 데이터 출처\n",
    "* https://kosis.kr/statHtml/statHtml.do?orgId=101&tblId=DT_1SSEN053R&vw_cd=MT_ZTITLE&list_id=101_D219&seqNo=&lang_mode=ko&language=kor&obj_var_id=&itm_id=&conn_path=MT_ZTITLE\n",
    "* https://kosis.kr/statHtml/statHtml.do?orgId=101&tblId=DT_1SSEN054R&vw_cd=MT_ZTITLE&list_id=101_D219&seqNo=&lang_mode=ko&language=kor&obj_var_id=&itm_id=&conn_path=MT_ZTITLE\n",
    "* https://kosis.kr/statHtml/statHtml.do?orgId=101&tblId=DT_1SSEN057R&vw_cd=MT_ZTITLE&list_id=101_D219&seqNo=&lang_mode=ko&language=kor&obj_var_id=&itm_id=&conn_path=MT_ZTITLE\n",
    "* https://kosis.kr/statHtml/statHtml.do?orgId=101&tblId=DT_1SSEN058R&vw_cd=MT_ZTITLE&list_id=101_D219&seqNo=&lang_mode=ko&language=kor&obj_var_id=&itm_id=&conn_path=MT_ZTITLE\n",
    "* https://kosis.kr/statHtml/statHtml.do?orgId=101&tblId=DT_1SSEN059R&vw_cd=MT_ZTITLE&list_id=101_D219&seqNo=&lang_mode=ko&language=kor&obj_var_id=&itm_id=&conn_path=MT_ZTITLE\n",
    "* https://kosis.kr/statHtml/statHtml.do?orgId=101&tblId=DT_1SSEN051R&vw_cd=MT_ZTITLE&list_id=101_D219&seqNo=&lang_mode=ko&language=kor&obj_var_id=&itm_id=&conn_path=MT_ZTITLE \n",
    "---"
   ]
  },
  {
   "cell_type": "markdown",
   "metadata": {},
   "source": [
    "### 1. 데이터 읽기"
   ]
  },
  {
   "cell_type": "code",
   "execution_count": 39,
   "metadata": {},
   "outputs": [
    {
     "name": "stdout",
     "output_type": "stream",
     "text": [
      "Requirement already satisfied: seaborn==0.9.0 in /opt/conda/lib/python3.8/site-packages (0.9.0)\n",
      "Requirement already satisfied: matplotlib>=1.4.3 in /opt/conda/lib/python3.8/site-packages (from seaborn==0.9.0) (3.3.3)\n",
      "Requirement already satisfied: numpy>=1.9.3 in /opt/conda/lib/python3.8/site-packages (from seaborn==0.9.0) (1.19.4)\n",
      "Requirement already satisfied: pandas>=0.15.2 in /opt/conda/lib/python3.8/site-packages (from seaborn==0.9.0) (1.2.0)\n",
      "Requirement already satisfied: scipy>=0.14.0 in /opt/conda/lib/python3.8/site-packages (from seaborn==0.9.0) (1.5.3)\n",
      "Requirement already satisfied: kiwisolver>=1.0.1 in /opt/conda/lib/python3.8/site-packages (from matplotlib>=1.4.3->seaborn==0.9.0) (1.3.1)\n",
      "Requirement already satisfied: pyparsing!=2.0.4,!=2.1.2,!=2.1.6,>=2.0.3 in /opt/conda/lib/python3.8/site-packages (from matplotlib>=1.4.3->seaborn==0.9.0) (2.4.7)\n",
      "Requirement already satisfied: python-dateutil>=2.1 in /opt/conda/lib/python3.8/site-packages (from matplotlib>=1.4.3->seaborn==0.9.0) (2.8.1)\n",
      "Requirement already satisfied: cycler>=0.10 in /opt/conda/lib/python3.8/site-packages (from matplotlib>=1.4.3->seaborn==0.9.0) (0.10.0)\n",
      "Requirement already satisfied: pillow>=6.2.0 in /opt/conda/lib/python3.8/site-packages (from matplotlib>=1.4.3->seaborn==0.9.0) (8.0.1)\n",
      "Requirement already satisfied: six in /opt/conda/lib/python3.8/site-packages (from cycler>=0.10->matplotlib>=1.4.3->seaborn==0.9.0) (1.15.0)\n",
      "Requirement already satisfied: pytz>=2017.3 in /opt/conda/lib/python3.8/site-packages (from pandas>=0.15.2->seaborn==0.9.0) (2020.5)\n",
      "0.9.0\n"
     ]
    }
   ],
   "source": [
    "import numpy as np\n",
    "import pandas as pd\n",
    "import matplotlib.pyplot as plt\n",
    "%matplotlib inline\n",
    "!pip install seaborn==0.9.0\n",
    "import seaborn as sns\n",
    "print(sns.__version__)\n",
    "# missingno라는 라이브러리가 설치되어 있을 경우 import"
   ]
  },
  {
   "cell_type": "code",
   "execution_count": 40,
   "metadata": {},
   "outputs": [],
   "source": [
    "chemical = pd.read_csv('chemical.csv', encoding = 'cp949')\n",
    "climate = pd.read_csv('climate.csv', encoding = 'cp949')\n",
    "particulates = pd.read_csv('particulates.csv', encoding = 'cp949')\n",
    "pesticide = pd.read_csv('pesticide.csv', encoding = 'cp949')\n",
    "radioactivity = pd.read_csv('radioactivity.csv', encoding = 'cp949')\n",
    "tap_water = pd.read_csv('tap water.csv', encoding = 'cp949')"
   ]
  },
  {
   "cell_type": "code",
   "execution_count": 41,
   "metadata": {
    "scrolled": true
   },
   "outputs": [
    {
     "data": {
      "text/html": [
       "<div>\n",
       "<style scoped>\n",
       "    .dataframe tbody tr th:only-of-type {\n",
       "        vertical-align: middle;\n",
       "    }\n",
       "\n",
       "    .dataframe tbody tr th {\n",
       "        vertical-align: top;\n",
       "    }\n",
       "\n",
       "    .dataframe thead th {\n",
       "        text-align: right;\n",
       "    }\n",
       "</style>\n",
       "<table border=\"1\" class=\"dataframe\">\n",
       "  <thead>\n",
       "    <tr style=\"text-align: right;\">\n",
       "      <th></th>\n",
       "      <th>행정구역(시도)별(1)</th>\n",
       "      <th>특성별(1)</th>\n",
       "      <th>특성별(2)</th>\n",
       "      <th>2020</th>\n",
       "      <th>2020.1</th>\n",
       "      <th>2020.2</th>\n",
       "      <th>2020.3</th>\n",
       "      <th>2020.4</th>\n",
       "      <th>2020.5</th>\n",
       "    </tr>\n",
       "  </thead>\n",
       "  <tbody>\n",
       "    <tr>\n",
       "      <th>0</th>\n",
       "      <td>행정구역(시도)별(1)</td>\n",
       "      <td>특성별(1)</td>\n",
       "      <td>특성별(2)</td>\n",
       "      <td>계</td>\n",
       "      <td>전혀 불안하지 않음</td>\n",
       "      <td>별로 불안하지 않음</td>\n",
       "      <td>보통</td>\n",
       "      <td>약간 불안함</td>\n",
       "      <td>매우 불안함</td>\n",
       "    </tr>\n",
       "    <tr>\n",
       "      <th>1</th>\n",
       "      <td>전국</td>\n",
       "      <td>전체</td>\n",
       "      <td>계</td>\n",
       "      <td>100.0</td>\n",
       "      <td>3.5</td>\n",
       "      <td>16.0</td>\n",
       "      <td>34.5</td>\n",
       "      <td>36.7</td>\n",
       "      <td>9.4</td>\n",
       "    </tr>\n",
       "    <tr>\n",
       "      <th>2</th>\n",
       "      <td>전국</td>\n",
       "      <td>동·읍면부</td>\n",
       "      <td>동부</td>\n",
       "      <td>100.0</td>\n",
       "      <td>3.1</td>\n",
       "      <td>15.0</td>\n",
       "      <td>34.2</td>\n",
       "      <td>37.7</td>\n",
       "      <td>10.0</td>\n",
       "    </tr>\n",
       "    <tr>\n",
       "      <th>3</th>\n",
       "      <td>전국</td>\n",
       "      <td>동·읍면부</td>\n",
       "      <td>읍면부</td>\n",
       "      <td>100.0</td>\n",
       "      <td>5.3</td>\n",
       "      <td>20.8</td>\n",
       "      <td>35.6</td>\n",
       "      <td>31.9</td>\n",
       "      <td>6.4</td>\n",
       "    </tr>\n",
       "    <tr>\n",
       "      <th>4</th>\n",
       "      <td>전국</td>\n",
       "      <td>성별</td>\n",
       "      <td>남자</td>\n",
       "      <td>100.0</td>\n",
       "      <td>4.2</td>\n",
       "      <td>17.2</td>\n",
       "      <td>36.5</td>\n",
       "      <td>34.6</td>\n",
       "      <td>7.5</td>\n",
       "    </tr>\n",
       "  </tbody>\n",
       "</table>\n",
       "</div>"
      ],
      "text/plain": [
       "   행정구역(시도)별(1)  특성별(1)  특성별(2)   2020      2020.1      2020.2 2020.3  2020.4  \\\n",
       "0  행정구역(시도)별(1)  특성별(1)  특성별(2)      계  전혀 불안하지 않음  별로 불안하지 않음     보통  약간 불안함   \n",
       "1            전국      전체       계  100.0         3.5        16.0   34.5    36.7   \n",
       "2            전국   동·읍면부      동부  100.0         3.1        15.0   34.2    37.7   \n",
       "3            전국   동·읍면부     읍면부  100.0         5.3        20.8   35.6    31.9   \n",
       "4            전국      성별      남자  100.0         4.2        17.2   36.5    34.6   \n",
       "\n",
       "   2020.5  \n",
       "0  매우 불안함  \n",
       "1     9.4  \n",
       "2    10.0  \n",
       "3     6.4  \n",
       "4     7.5  "
      ]
     },
     "execution_count": 41,
     "metadata": {},
     "output_type": "execute_result"
    }
   ],
   "source": [
    "chemical.head()"
   ]
  },
  {
   "cell_type": "markdown",
   "metadata": {},
   "source": [
    "* 첫번째 행이 원하는 결과 분류이므로 첫번째 행을 columns로 설정"
   ]
  },
  {
   "cell_type": "markdown",
   "metadata": {},
   "source": [
    "### 2. 데이터 정제"
   ]
  },
  {
   "cell_type": "code",
   "execution_count": 42,
   "metadata": {},
   "outputs": [],
   "source": [
    "chemical.columns = chemical.iloc[0].to_list()\n",
    "chemical = chemical.iloc[1:]\n",
    "\n",
    "climate.columns = climate.iloc[0].to_list()\n",
    "climate = climate.iloc[1:]\n",
    "\n",
    "particulates.columns = particulates.iloc[0].to_list()\n",
    "particulates = particulates.iloc[1:]\n",
    "\n",
    "pesticide.columns = pesticide.iloc[0].to_list()\n",
    "pesticide = pesticide.iloc[1:]\n",
    "\n",
    "radioactivity.columns = radioactivity.iloc[0].to_list()\n",
    "radioactivity = radioactivity.iloc[1:]\n",
    "\n",
    "tap_water.columns = tap_water.iloc[0].to_list()\n",
    "tap_water = tap_water.iloc[1:]"
   ]
  },
  {
   "cell_type": "code",
   "execution_count": 43,
   "metadata": {
    "scrolled": true
   },
   "outputs": [
    {
     "data": {
      "text/html": [
       "<div>\n",
       "<style scoped>\n",
       "    .dataframe tbody tr th:only-of-type {\n",
       "        vertical-align: middle;\n",
       "    }\n",
       "\n",
       "    .dataframe tbody tr th {\n",
       "        vertical-align: top;\n",
       "    }\n",
       "\n",
       "    .dataframe thead th {\n",
       "        text-align: right;\n",
       "    }\n",
       "</style>\n",
       "<table border=\"1\" class=\"dataframe\">\n",
       "  <thead>\n",
       "    <tr style=\"text-align: right;\">\n",
       "      <th></th>\n",
       "      <th>행정구역(시도)별(1)</th>\n",
       "      <th>특성별(1)</th>\n",
       "      <th>특성별(2)</th>\n",
       "      <th>계</th>\n",
       "      <th>전혀 불안하지 않음</th>\n",
       "      <th>별로 불안하지 않음</th>\n",
       "      <th>보통</th>\n",
       "      <th>약간 불안함</th>\n",
       "      <th>매우 불안함</th>\n",
       "    </tr>\n",
       "  </thead>\n",
       "  <tbody>\n",
       "    <tr>\n",
       "      <th>9</th>\n",
       "      <td>전국</td>\n",
       "      <td>연령</td>\n",
       "      <td>15∼19세</td>\n",
       "      <td>-</td>\n",
       "      <td>-</td>\n",
       "      <td>-</td>\n",
       "      <td>-</td>\n",
       "      <td>-</td>\n",
       "      <td>-</td>\n",
       "    </tr>\n",
       "    <tr>\n",
       "      <th>48</th>\n",
       "      <td>전국</td>\n",
       "      <td>연령*성별</td>\n",
       "      <td>15~19세*남자</td>\n",
       "      <td>-</td>\n",
       "      <td>-</td>\n",
       "      <td>-</td>\n",
       "      <td>-</td>\n",
       "      <td>-</td>\n",
       "      <td>-</td>\n",
       "    </tr>\n",
       "    <tr>\n",
       "      <th>49</th>\n",
       "      <td>전국</td>\n",
       "      <td>연령*성별</td>\n",
       "      <td>15~19세*여자</td>\n",
       "      <td>-</td>\n",
       "      <td>-</td>\n",
       "      <td>-</td>\n",
       "      <td>-</td>\n",
       "      <td>-</td>\n",
       "      <td>-</td>\n",
       "    </tr>\n",
       "  </tbody>\n",
       "</table>\n",
       "</div>"
      ],
      "text/plain": [
       "   행정구역(시도)별(1) 특성별(1)     특성별(2)  계 전혀 불안하지 않음 별로 불안하지 않음 보통 약간 불안함 매우 불안함\n",
       "9            전국     연령     15∼19세  -          -          -  -      -      -\n",
       "48           전국  연령*성별  15~19세*남자  -          -          -  -      -      -\n",
       "49           전국  연령*성별  15~19세*여자  -          -          -  -      -      -"
      ]
     },
     "execution_count": 43,
     "metadata": {},
     "output_type": "execute_result"
    }
   ],
   "source": [
    "climate[climate['별로 불안하지 않음'] == '-']"
   ]
  },
  {
   "cell_type": "markdown",
   "metadata": {},
   "source": [
    "* 모든 데이터의 결측치를 확인한 결과 climate 데이터에 결측치가 존재하므로 결측치 제거"
   ]
  },
  {
   "cell_type": "code",
   "execution_count": 44,
   "metadata": {},
   "outputs": [],
   "source": [
    "climate = climate.drop(climate[climate['별로 불안하지 않음'] == '-'].index)"
   ]
  },
  {
   "cell_type": "markdown",
   "metadata": {},
   "source": [
    "* 평균을 구하기 위해 데이터타입을 float으로 변경"
   ]
  },
  {
   "cell_type": "code",
   "execution_count": 45,
   "metadata": {},
   "outputs": [],
   "source": [
    "chemical = chemical.astype({'전혀 불안하지 않음': 'float',\n",
    "                           '별로 불안하지 않음': 'float',\n",
    "                           '보통': 'float',\n",
    "                           '약간 불안함': 'float',\n",
    "                           '매우 불안함': 'float'})\n",
    "\n",
    "climate = climate.astype({'전혀 불안하지 않음': 'float',\n",
    "                           '별로 불안하지 않음': 'float',\n",
    "                           '보통': 'float',\n",
    "                           '약간 불안함': 'float',\n",
    "                           '매우 불안함': 'float'})\n",
    "\n",
    "particulates = particulates.astype({'전혀 불안하지 않음': 'float',\n",
    "                           '별로 불안하지 않음': 'float',\n",
    "                           '보통': 'float',\n",
    "                           '약간 불안함': 'float',\n",
    "                           '매우 불안함': 'float'})\n",
    "\n",
    "pesticide = pesticide.astype({'전혀 불안하지 않음': 'float',\n",
    "                           '별로 불안하지 않음': 'float',\n",
    "                           '보통': 'float',\n",
    "                           '약간 불안함': 'float',\n",
    "                           '매우 불안함': 'float'})\n",
    "\n",
    "radioactivity = radioactivity.astype({'전혀 불안하지 않음': 'float',\n",
    "                           '별로 불안하지 않음': 'float',\n",
    "                           '보통': 'float',\n",
    "                           '약간 불안함': 'float',\n",
    "                           '매우 불안함': 'float'})\n",
    "\n",
    "tap_water = tap_water.astype({'전혀 불안하지 않음': 'float',\n",
    "                           '별로 불안하지 않음': 'float',\n",
    "                           '보통': 'float',\n",
    "                           '약간 불안함': 'float',\n",
    "                           '매우 불안함': 'float'})"
   ]
  },
  {
   "cell_type": "markdown",
   "metadata": {},
   "source": [
    "* 분류에 따른 데이터 결과를 합산한 평균을 구함"
   ]
  },
  {
   "cell_type": "code",
   "execution_count": 46,
   "metadata": {},
   "outputs": [],
   "source": [
    "result_x = tap_water.mean().index\n",
    "result_y = (chemical.mean().values + climate.mean().values + particulates.mean().values + pesticide.mean().values + radioactivity.mean().values + tap_water.mean().values) / 6"
   ]
  },
  {
   "cell_type": "markdown",
   "metadata": {},
   "source": [
    "### 3. 데이터 시각화"
   ]
  },
  {
   "cell_type": "code",
   "execution_count": 47,
   "metadata": {},
   "outputs": [],
   "source": [
    "import matplotlib.font_manager as fm\n",
    "\n",
    "font_dirs = ['/usr/share/fonts/truetype/nanum', ]\n",
    "font_files = fm.findSystemFonts(fontpaths=font_dirs)\n",
    "\n",
    "for font_file in font_files:\n",
    "    fm.fontManager.addfont(font_file)\n",
    "    \n",
    "sns.set(font=\"NanumBarunGothic\", \n",
    "        rc={\"axes.unicode_minus\":False})"
   ]
  },
  {
   "cell_type": "markdown",
   "metadata": {},
   "source": [
    "* 5개 항목에 대한 결과 시각화"
   ]
  },
  {
   "cell_type": "code",
   "execution_count": 48,
   "metadata": {
    "scrolled": true
   },
   "outputs": [
    {
     "data": {
      "image/png": "[encoded data removed]",
      "text/plain": [
       "<Figure size 432x432 with 1 Axes>"
      ]
     },
     "metadata": {},
     "output_type": "display_data"
    }
   ],
   "source": [
    "plt.figure(figsize = (6, 6))\n",
    "plt.bar(result_x, result_y, width = 0.5)\n",
    "plt.title('환경문제에 대한 인식')\n",
    "plt.ylabel('단위(%)', fontsize = 13)\n",
    "plt.xticks(rotation = 30)\n",
    "for i, v in enumerate(result_x):\n",
    "    plt.text(v, result_y[i] + 0.3, f'{round(result_y[i], 2)}%',\n",
    "             fontsize = 12,\n",
    "             color='red',\n",
    "             horizontalalignment='center',  \n",
    "             verticalalignment='bottom')\n",
    "plt.show()"
   ]
  },
  {
   "cell_type": "markdown",
   "metadata": {},
   "source": [
    "* 불안함 = 보통 + 약간 불안함 + 매우 불안함\n",
    "* 불안하지 않음 = 전혀 불안하지 않음 + 별로 불안하지 않음\n",
    "* 위의 식으로 합산한 데이터 시각화"
   ]
  },
  {
   "cell_type": "code",
   "execution_count": 49,
   "metadata": {},
   "outputs": [
    {
     "data": {
      "image/png": "[encoded data removed]",
      "text/plain": [
       "<Figure size 432x576 with 1 Axes>"
      ]
     },
     "metadata": {},
     "output_type": "display_data"
    }
   ],
   "source": [
    "result_sum_x = ['불안하지 않음', '불안함']\n",
    "result_sum_y = [sum(result_y[:2]), sum(result_y[2:])]\n",
    "\n",
    "plt.figure(figsize = (6, 8))\n",
    "plt.bar(result_sum_x, result_sum_y, width = 0.6)\n",
    "plt.title('환경문제에 대한 인식')\n",
    "plt.ylabel('단위(%)', fontsize = 13)\n",
    "for i, v in enumerate(result_sum_x):\n",
    "    plt.text(v, result_sum_y[i] + 1, f'{round(result_sum_y[i], 2)}%',\n",
    "             fontsize = 13,\n",
    "             color='red',\n",
    "             horizontalalignment='center',  \n",
    "             verticalalignment='bottom')\n",
    "plt.show()"
   ]
  },
  {
   "cell_type": "markdown",
   "metadata": {},
   "source": [
    "* 보통을 불안함에 포함하여 분석할 경우"
   ]
  },
  {
   "cell_type": "code",
   "execution_count": 50,
   "metadata": {
    "scrolled": true
   },
   "outputs": [
    {
     "data": {
      "image/png": "[encoded data removed]",
      "text/plain": [
       "<Figure size 432x576 with 1 Axes>"
      ]
     },
     "metadata": {},
     "output_type": "display_data"
    }
   ],
   "source": [
    "result_sum_x = ['불안하지 않음', '보통', '불안함']\n",
    "result_sum_y = [sum(result_y[:2]), result_y[2], sum(result_y[3:])]\n",
    "\n",
    "plt.figure(figsize = (6, 8))\n",
    "plt.bar(result_sum_x, result_sum_y, width = 0.6)\n",
    "plt.title('환경문제에 대한 인식')\n",
    "plt.ylabel('단위(%)', fontsize = 13)\n",
    "for i, v in enumerate(result_sum_x):\n",
    "    plt.text(v, result_sum_y[i] + 1, f'{round(result_sum_y[i], 2)}%',\n",
    "             fontsize = 13,\n",
    "             color='red',\n",
    "             horizontalalignment='center',  \n",
    "             verticalalignment='bottom')\n",
    "plt.show()"
   ]
  },
  {
   "cell_type": "markdown",
   "metadata": {},
   "source": [
    "* 보통을 따로 분류했을 경우"
   ]
  }
 ],
 "metadata": {
  "kernelspec": {
   "display_name": "Python 3",
   "language": "python",
   "name": "python3"
  },
  "language_info": {
   "codemirror_mode": {
    "name": "ipython",
    "version": 3
   },
   "file_extension": ".py",
   "mimetype": "text/x-python",
   "name": "python",
   "nbconvert_exporter": "python",
   "pygments_lexer": "ipython3",
   "version": "3.8.6"
  }
 },
 "nbformat": 4,
 "nbformat_minor": 4
}
